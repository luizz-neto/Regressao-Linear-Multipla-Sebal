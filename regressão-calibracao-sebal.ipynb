{
 "cells": [
  {
   "cell_type": "code",
   "execution_count": null,
   "id": "8054e58b",
   "metadata": {},
   "outputs": [],
   "source": [
    "'''\n",
    "Luiz Neto\n",
    "ICAT/UFAL\n",
    "luizsneto211@gmail.com\n",
    "luiz.neto@icat.ufal.br\n",
    "Last updated on August 29, 2025\n",
    "'''"
   ]
  },
  {
   "cell_type": "code",
   "execution_count": 2,
   "id": "432544c0",
   "metadata": {},
   "outputs": [],
   "source": [
    "import pandas as pd\n",
    "import statsmodels.api as sm"
   ]
  },
  {
   "cell_type": "code",
   "execution_count": null,
   "id": "33cf63ec",
   "metadata": {},
   "outputs": [
    {
     "name": "stdout",
     "output_type": "stream",
     "text": [
      "   Bowen Ratio SEBAL     VPD\n",
      "0         4,50  1,27   1,161\n",
      "1         6,26  3,87   2,238\n",
      "2         6,71  5,37   3,013\n",
      "3         7,17  5,21   2,561\n",
      "4         7,59  4,47   2,039\n",
      "5         6,50  5,99   1,564\n",
      "6         6,00  4,38   2,276\n",
      "7         6,02  4,58   2,279\n",
      "8         5,71  3,81   1,979\n",
      "9         5,20  3,68   2,116\n",
      "10        5,86  4,78   2,138\n",
      "11        7,09  6,13   2,456\n",
      "12        7,01  6,10   2,663\n",
      "13        7,25  6,26   2,509\n",
      "14        5,57  5,35   2,003\n",
      "15        5,25  3,85  2,010 \n",
      "                            OLS Regression Results                            \n",
      "==============================================================================\n",
      "Dep. Variable:            Bowen Ratio   R-squared:                       0.610\n",
      "Model:                            OLS   Adj. R-squared:                  0.551\n",
      "Method:                 Least Squares   F-statistic:                     10.19\n",
      "Date:                Wed, 27 Aug 2025   Prob (F-statistic):            0.00218\n",
      "Time:                        05:48:30   Log-Likelihood:                -12.434\n",
      "No. Observations:                  16   AIC:                             30.87\n",
      "Df Residuals:                      13   BIC:                             33.19\n",
      "Df Model:                           2                                         \n",
      "Covariance Type:            nonrobust                                         \n",
      "==============================================================================\n",
      "                 coef    std err          t      P>|t|      [0.025      0.975]\n",
      "------------------------------------------------------------------------------\n",
      "const          3.2279      0.780      4.138      0.001       1.542       4.913\n",
      "SEBAL          0.4135      0.153      2.711      0.018       0.084       0.743\n",
      "VPD            0.4853      0.449      1.082      0.299      -0.484       1.455\n",
      "==============================================================================\n",
      "Omnibus:                        9.875   Durbin-Watson:                   1.352\n",
      "Prob(Omnibus):                  0.007   Jarque-Bera (JB):                6.529\n",
      "Skew:                           1.172   Prob(JB):                       0.0382\n",
      "Kurtosis:                       5.073   Cond. No.                         31.4\n",
      "==============================================================================\n",
      "\n",
      "Notes:\n",
      "[1] Standard Errors assume that the covariance matrix of the errors is correctly specified.\n"
     ]
    },
    {
     "name": "stderr",
     "output_type": "stream",
     "text": [
      "c:\\Users\\luizs\\anaconda\\envs\\goes\\Lib\\site-packages\\scipy\\stats\\_axis_nan_policy.py:418: UserWarning: `kurtosistest` p-value may be inaccurate with fewer than 20 observations; only n=16 observations were given.\n",
      "  return hypotest_fun_in(*args, **kwds)\n"
     ]
    },
    {
     "name": "stdout",
     "output_type": "stream",
     "text": [
      "\n",
      "Equação de calibração:\n",
      "Bowen Ratio (estimado) = 3.2279 + 0.4135 * SEBAL + 0.4853 * VPD\n",
      "\n",
      "O SEBAL_calibrado foi salvo no arquivo 'sebal_calibrado.csv'.\n"
     ]
    }
   ],
   "source": [
    "# === 1. Carregando os dados  que forem ser usados ===\n",
    "df = pd.read_csv(\"teste-regre.csv\", sep=\";\")\n",
    "print(df)\n",
    "\n",
    "# === 2. Garantir que as colunas são numéricas ===\n",
    "for col in [\"SEBAL\", \"VPD\", \"Bowen Ratio\"]:\n",
    "    df[col] = pd.to_numeric(df[col].astype(str).str.replace(\",\", \".\"), errors=\"coerce\")\n",
    "\n",
    "# === 3. Definindo as variáveis de interesse === \n",
    "# === dependendo do arquivo podem exister \"n\" variáveis, desse modo selecionamos apenas as que vão ser usadas ===\n",
    "X = df[[\"SEBAL\", \"VPD\"]]     # explicativas (satélite + clima)\n",
    "X = sm.add_constant(X)       # adiciona intercepto\n",
    "y = df[\"Bowen Ratio\"]        # variável dependente (verdade da torre)\n",
    "\n",
    "# === 4. Ajustando regressão ===\n",
    "modelo = sm.OLS(y, X, missing=\"drop\").fit()\n",
    "\n",
    "# === 5. Mostrando resultados ===\n",
    "print(modelo.summary())\n",
    "\n",
    "# === 6. Criar coluna SEBAL_calibrado (predição do Bowen via regressão) ===\n",
    "df[\"SEBAL_calibrado\"] = modelo.predict(X)\n",
    "\n",
    "# === 7. Salvando CSV com nova coluna ===\n",
    "# == Aqui pode mudar o tipo do arquivo a ser salvo, no meu caso usei \".xlsx\", mas pode ser \".CSV\" por exemplo ==\n",
    "df.to_excel(\"sebal_calibrado.xlsx\", index=False)\n",
    "\n",
    "# === 8. Printando a equação final, a qual eu tinha interesse em obter ===\n",
    "b0 = modelo.params[\"const\"]\n",
    "b1 = modelo.params[\"SEBAL\"]\n",
    "b2 = modelo.params[\"VPD\"]\n",
    "\n",
    "print(\"\\nEquação de calibração:\")\n",
    "print(f\"Bowen Ratio (estimado) = {b0:.4f} + {b1:.4f} * SEBAL + {b2:.4f} * VPD\")\n",
    "print(\"\\nO SEBAL_calibrado foi salvo no arquivo 'sebal_calibrado.csv'.\")\n"
   ]
  }
 ],
 "metadata": {
  "kernelspec": {
   "display_name": "goes",
   "language": "python",
   "name": "python3"
  },
  "language_info": {
   "codemirror_mode": {
    "name": "ipython",
    "version": 3
   },
   "file_extension": ".py",
   "mimetype": "text/x-python",
   "name": "python",
   "nbconvert_exporter": "python",
   "pygments_lexer": "ipython3",
   "version": "3.12.6"
  }
 },
 "nbformat": 4,
 "nbformat_minor": 5
}
